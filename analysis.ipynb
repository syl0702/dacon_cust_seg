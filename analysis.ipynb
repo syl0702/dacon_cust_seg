{
 "cells": [
  {
   "cell_type": "code",
   "execution_count": 1,
   "id": "aef4ca0f-710f-4286-80a4-1a62283528b3",
   "metadata": {},
   "outputs": [],
   "source": [
    "import pandas as pd\n",
    "import numpy as np\n",
    "import sklearn\n",
    "import seaborn as sns\n",
    "import matplotlib as mpl\n",
    "import matplotlib.pyplot as plt"
   ]
  },
  {
   "cell_type": "code",
   "execution_count": 2,
   "id": "600d74a4-cddc-4cd9-9795-d49e6c8e7d31",
   "metadata": {},
   "outputs": [],
   "source": [
    "cin_df = pd.read_csv('./data./Customer_info.csv')\n",
    "din_df = pd.read_csv('./data./Discount_info.csv')\n",
    "min_df = pd.read_csv('./data./Marketing_info.csv')\n",
    "oin_df = pd.read_csv('./data./Onlinesales_info.csv')\n",
    "tin_df = pd.read_csv('./data./Tax_info.csv')"
   ]
  },
  {
   "cell_type": "code",
   "execution_count": null,
   "id": "fe8f21cf-cd8f-42ca-ac67-610286f77352",
   "metadata": {},
   "outputs": [],
   "source": []
  }
 ],
 "metadata": {
  "kernelspec": {
   "display_name": "Python 3 (ipykernel)",
   "language": "python",
   "name": "python3"
  },
  "language_info": {
   "codemirror_mode": {
    "name": "ipython",
    "version": 3
   },
   "file_extension": ".py",
   "mimetype": "text/x-python",
   "name": "python",
   "nbconvert_exporter": "python",
   "pygments_lexer": "ipython3",
   "version": "3.11.4"
  }
 },
 "nbformat": 4,
 "nbformat_minor": 5
}
